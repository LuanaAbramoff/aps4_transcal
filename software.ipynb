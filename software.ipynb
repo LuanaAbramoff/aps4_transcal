{
 "cells": [
  {
   "cell_type": "markdown",
   "metadata": {},
   "source": [
    "## **Software de cálculo numérico para treliças planas**"
   ]
  },
  {
   "cell_type": "markdown",
   "metadata": {},
   "source": [
    "**Introdução**"
   ]
  },
  {
   "cell_type": "markdown",
   "metadata": {},
   "source": [
    "**Explicação da estrutura do software**"
   ]
  },
  {
   "cell_type": "code",
   "execution_count": 15,
   "metadata": {},
   "outputs": [],
   "source": [
    "#Importando bibliotecas necessárias\n",
    "import matplotlib as mpl\n",
    "import matplotlib.pyplot as plt\n",
    "from math import *\n",
    "import numpy as np\n",
    "import xlrd"
   ]
  },
  {
   "cell_type": "markdown",
   "metadata": {},
   "source": [
    "*Explicando nomes de variáveis da tabela*\n",
    "\n",
    "<small>A funcao 'importa' retorna o numero de nos [nn], a matriz dos nos [N], o numero\n",
    "de membros [nm], a matriz de incidencia [Inc], o numero de cargas [nc], o vetor\n",
    "carregamento [F], o numero de restricoes [nr] e o vetor de restricoes [R] \n",
    "contidos no arquivo de entrada.</small>\n",
    "\n",
    "MUDAR ISSO DEPOIS SO COPIEI E COLEI DE LA"
   ]
  },
  {
   "cell_type": "code",
   "execution_count": 16,
   "metadata": {},
   "outputs": [],
   "source": [
    "#Importando as funções do arquivo funcoesTermosol.py e extraindo variáveis do arquivo de entrada\n",
    "from funcoesTermosol import plota\n",
    "\n",
    "from funcoesTermosol import importa\n",
    "[nn,N,nm,Inc,nc,F,nr,R] = importa('entrada.xls')\n",
    "\n",
    "from funcoesTermosol import geraSaida"
   ]
  },
  {
   "cell_type": "code",
   "execution_count": 24,
   "metadata": {},
   "outputs": [
    {
     "data": {
      "text/plain": [
       "0.0"
      ]
     },
     "execution_count": 24,
     "metadata": {},
     "output_type": "execute_result"
    }
   ],
   "source": [
    "#Visualizando os dados obtidos através do arquivo de entrada\n",
    "Inc[:,1]\n",
    "Inc[:,2]\n",
    "Inc\n",
    "R[0,0]\n"
   ]
  },
  {
   "cell_type": "code",
   "execution_count": 18,
   "metadata": {},
   "outputs": [
    {
     "data": {
      "text/plain": [
       "array([[ 1.e+00,  1.e+00,  2.e+00,  4.e-01,  2.e-04,  0.e+00,  1.e+00],\n",
       "       [ 2.e+00,  2.e+00,  3.e+00,  3.e-01,  2.e-04,  1.e+00,  0.e+00],\n",
       "       [ 3.e+00,  3.e+00,  1.e+00,  5.e-01,  2.e-04, -6.e-01, -8.e-01]])"
      ]
     },
     "execution_count": 18,
     "metadata": {},
     "output_type": "execute_result"
    }
   ],
   "source": [
    "#Montando a matriz de conectividade\n",
    "m_conectividade = np.zeros((nm,7))\n",
    "\n",
    "#preencher as incidências automaticamente\n",
    "m_conectividade[:,1] = Inc[:,0]\n",
    "m_conectividade[:,2] = Inc[:,1]\n",
    "m_conectividade[:,4] = Inc[:,3]\n",
    "\n",
    "for c in range(nm):\n",
    "    m_conectividade[c,0] = c + 1\n",
    "\n",
    "    #cálculo do comprimento\n",
    "    x1_calculo_L = N[0,int(m_conectividade[c,1]-1)]\n",
    "    y1_calculo_L = N[1,int(m_conectividade[c,1]-1)]\n",
    "    x2_calculo_L = N[0,int(m_conectividade[c,2]-1)]\n",
    "    y2_calculo_L = N[1,int(m_conectividade[c,2]-1)]\n",
    "\n",
    "    m_conectividade[c,3] = sqrt((x2_calculo_L - x1_calculo_L)**2 + (y2_calculo_L - y1_calculo_L)**2)\n",
    "\n",
    "    m_conectividade[c,6] = (y2_calculo_L - y1_calculo_L)/m_conectividade[c,3]\n",
    "    m_conectividade[c,5] = (x2_calculo_L - x1_calculo_L)/m_conectividade[c,3]\n",
    "    \n",
    "\n",
    "\n",
    "m_conectividade"
   ]
  },
  {
   "cell_type": "code",
   "execution_count": 19,
   "metadata": {},
   "outputs": [
    {
     "data": {
      "text/plain": [
       "array([[ 3.0240e+07,  4.0320e+07,  0.0000e+00,  0.0000e+00, -3.0240e+07,\n",
       "        -4.0320e+07],\n",
       "       [ 4.0320e+07,  1.5876e+08,  0.0000e+00, -1.0500e+08, -4.0320e+07,\n",
       "        -5.3760e+07],\n",
       "       [ 0.0000e+00,  0.0000e+00,  1.4000e+08,  0.0000e+00, -1.4000e+08,\n",
       "         0.0000e+00],\n",
       "       [ 0.0000e+00, -1.0500e+08,  0.0000e+00,  1.0500e+08,  0.0000e+00,\n",
       "         0.0000e+00],\n",
       "       [-3.0240e+07, -4.0320e+07, -1.4000e+08,  0.0000e+00,  1.7024e+08,\n",
       "         4.0320e+07],\n",
       "       [-4.0320e+07, -5.3760e+07,  0.0000e+00,  0.0000e+00,  4.0320e+07,\n",
       "         5.3760e+07]])"
      ]
     },
     "execution_count": 19,
     "metadata": {},
     "output_type": "execute_result"
    }
   ],
   "source": [
    "#Cálculo da matriz de rigidez de cada elemento e global\n",
    "\n",
    "m_rigidez_global = np.zeros((nn*2,nn*2))\n",
    "\n",
    "for i in range(nm):\n",
    "    multiplicador = (Inc[i,2] * Inc[i,3])/m_conectividade[i,3]\n",
    "    \n",
    "    s = m_conectividade[i,6]\n",
    "  \n",
    "    c = m_conectividade[i,5]\n",
    "\n",
    "    m_rigidez_elemento = np.zeros((4,4))\n",
    "    m_rigidez_elemento =   multiplicador * np.array([\n",
    "        [c**2, c * s, -c**2, -c * s],\n",
    "        [c * s, s**2, -c * s, -s**2],\n",
    "        [-c**2, -c * s, c**2, c * s],\n",
    "        [-c * s, -s**2, c * s, s**2]\n",
    "    ])\n",
    "\n",
    "    no_i_elemento = m_conectividade[i,1]\n",
    "    no_j_elemento = m_conectividade[i,2]\n",
    "\n",
    "    #atraves dos nós de i e j da matriz (POR IMAGEM P EXPLICAR MELHOR) calculo da posição na matriz global, a subtração vem de uma convenção\n",
    "    index_i = np.array([2*no_i_elemento - 2, 2*no_i_elemento - 1], dtype=int)\n",
    "    index_j = np.array([2*no_j_elemento - 2, 2*no_j_elemento - 1], dtype=int)\n",
    "\n",
    "    #agora precisamos contemplar todas as possibilidades de combinação dos nós incidentes, então a contribuição que ele faz ao nó incidente em si (linhas 1 e 4 a seguir) e a contribuição que ele faz aos dois nós simultaneamente(linhas 2 e 3 a seguir), além disso usamos a função np.ix_ para coonseguirmos abarcar o intervalo de indices desejado \n",
    "    m_rigidez_global[np.ix_(index_i,index_i)] += m_rigidez_elemento[:2, :2]\n",
    "    m_rigidez_global[np.ix_(index_i,index_j)] += m_rigidez_elemento[:2, 2:]\n",
    "    m_rigidez_global[np.ix_(index_j,index_i)] += m_rigidez_elemento[2:, :2]\n",
    "    m_rigidez_global[np.ix_(index_j,index_j)] += m_rigidez_elemento[2:, 2:]\n",
    "\n",
    "\n",
    "m_rigidez_global\n"
   ]
  },
  {
   "cell_type": "code",
   "execution_count": 30,
   "metadata": {},
   "outputs": [
    {
     "data": {
      "text/plain": [
       "array([[   0.],\n",
       "       [ 150.],\n",
       "       [-100.]])"
      ]
     },
     "execution_count": 30,
     "metadata": {},
     "output_type": "execute_result"
    }
   ],
   "source": [
    "#montando a matriz de forças global e aplicando as restrições\n",
    "\n",
    "m_rigidez_contorno = m_rigidez_global.copy()\n",
    "\n",
    "m_rigidez_contorno[np.array(R, dtype=int), :] = 0\n",
    "m_rigidez_contorno[:, np.array(R, dtype=int)] = 0\n",
    "m_rigidez_contorno[np.array(R, dtype=int),np.array(R, dtype=int)] = 1\n",
    "\n",
    "gdl_nrestritos = np.setdiff1d(np.arange(nn * 2),np.array(R, dtype = int))\n",
    "\n",
    "m_rigidez_contorno = m_rigidez_contorno[gdl_nrestritos][:,gdl_nrestritos]\n",
    "F_contorno = F[gdl_nrestritos]\n"
   ]
  }
 ],
 "metadata": {
  "kernelspec": {
   "display_name": "Python 3",
   "language": "python",
   "name": "python3"
  },
  "language_info": {
   "codemirror_mode": {
    "name": "ipython",
    "version": 3
   },
   "file_extension": ".py",
   "mimetype": "text/x-python",
   "name": "python",
   "nbconvert_exporter": "python",
   "pygments_lexer": "ipython3",
   "version": "3.11.2"
  },
  "orig_nbformat": 4
 },
 "nbformat": 4,
 "nbformat_minor": 2
}
