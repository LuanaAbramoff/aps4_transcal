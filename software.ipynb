{
 "cells": [
  {
   "cell_type": "markdown",
   "metadata": {},
   "source": [
    "## **Software de cálculo numérico para treliças planas**"
   ]
  },
  {
   "cell_type": "markdown",
   "metadata": {},
   "source": [
    "**Introdução**"
   ]
  },
  {
   "cell_type": "markdown",
   "metadata": {},
   "source": [
    "**Explicação da estrutura do software**"
   ]
  },
  {
   "cell_type": "code",
   "execution_count": 44,
   "metadata": {},
   "outputs": [],
   "source": [
    "#Importando bibliotecas necessárias\n",
    "import matplotlib as mpl\n",
    "import matplotlib.pyplot as plt\n",
    "from math import *\n",
    "import numpy as np\n",
    "import xlrd"
   ]
  },
  {
   "cell_type": "markdown",
   "metadata": {},
   "source": [
    "*Explicando nomes de variáveis da tabela*\n",
    "\n",
    "<small>A funcao 'importa' retorna o numero de nos [nn], a matriz dos nos [N], o numero\n",
    "de membros [nm], a matriz de incidencia [Inc], o numero de cargas [nc], o vetor\n",
    "carregamento [F], o numero de restricoes [nr] e o vetor de restricoes [R] \n",
    "contidos no arquivo de entrada.</small>\n",
    "\n",
    "MUDAR ISSO DEPOIS SO COPIEI E COLEI DE LA"
   ]
  },
  {
   "cell_type": "code",
   "execution_count": 45,
   "metadata": {},
   "outputs": [],
   "source": [
    "#Importando as funções do arquivo funcoesTermosol.py e extraindo variáveis do arquivo de entrada\n",
    "from funcoesTermosol import plota\n",
    "\n",
    "from funcoesTermosol import importa\n",
    "[nn,N,nm,Inc,nc,F,nr,R] = importa('entradaoficial.xls')\n",
    "\n",
    "from funcoesTermosol import geraSaida"
   ]
  },
  {
   "cell_type": "code",
   "execution_count": 46,
   "metadata": {},
   "outputs": [
    {
     "data": {
      "text/plain": [
       "array([[1.0000e+00, 2.0000e+00, 1.9314e+11, 5.2500e-06],\n",
       "       [2.0000e+00, 4.0000e+00, 1.9314e+11, 5.2500e-06],\n",
       "       [4.0000e+00, 6.0000e+00, 1.9314e+11, 5.2500e-06],\n",
       "       [6.0000e+00, 7.0000e+00, 1.9314e+11, 5.2500e-06],\n",
       "       [2.0000e+00, 3.0000e+00, 1.9314e+11, 5.2500e-06],\n",
       "       [3.0000e+00, 4.0000e+00, 1.9314e+11, 5.2500e-06],\n",
       "       [4.0000e+00, 5.0000e+00, 1.9314e+11, 5.2500e-06],\n",
       "       [5.0000e+00, 6.0000e+00, 1.9314e+11, 5.2500e-06],\n",
       "       [1.0000e+00, 3.0000e+00, 1.9314e+11, 5.2500e-06],\n",
       "       [3.0000e+00, 5.0000e+00, 1.9314e+11, 5.2500e-06],\n",
       "       [5.0000e+00, 7.0000e+00, 1.9314e+11, 5.2500e-06]])"
      ]
     },
     "execution_count": 46,
     "metadata": {},
     "output_type": "execute_result"
    }
   ],
   "source": [
    "#Visualizando os dados obtidos através do arquivo de entrada\n",
    "Inc[:,1]\n",
    "Inc[:,2]\n",
    "Inc\n",
    "R[0,0]\n",
    "Inc"
   ]
  },
  {
   "cell_type": "code",
   "execution_count": 47,
   "metadata": {},
   "outputs": [
    {
     "data": {
      "text/plain": [
       "array([[ 1.00000000e+00,  1.00000000e+00,  2.00000000e+00,\n",
       "         1.60996894e-01,  5.25000000e-06,  8.94427191e-01,\n",
       "         4.47213595e-01],\n",
       "       [ 2.00000000e+00,  2.00000000e+00,  4.00000000e+00,\n",
       "         1.60996894e-01,  5.25000000e-06,  8.94427191e-01,\n",
       "         4.47213595e-01],\n",
       "       [ 3.00000000e+00,  4.00000000e+00,  6.00000000e+00,\n",
       "         1.60996894e-01,  5.25000000e-06,  8.94427191e-01,\n",
       "        -4.47213595e-01],\n",
       "       [ 4.00000000e+00,  6.00000000e+00,  7.00000000e+00,\n",
       "         1.60996894e-01,  5.25000000e-06,  8.94427191e-01,\n",
       "        -4.47213595e-01],\n",
       "       [ 5.00000000e+00,  2.00000000e+00,  3.00000000e+00,\n",
       "         8.65332306e-02,  5.25000000e-06,  5.54700196e-01,\n",
       "        -8.32050294e-01],\n",
       "       [ 6.00000000e+00,  3.00000000e+00,  4.00000000e+00,\n",
       "         1.73066461e-01,  5.25000000e-06,  5.54700196e-01,\n",
       "         8.32050294e-01],\n",
       "       [ 7.00000000e+00,  4.00000000e+00,  5.00000000e+00,\n",
       "         1.73066461e-01,  5.25000000e-06,  5.54700196e-01,\n",
       "        -8.32050294e-01],\n",
       "       [ 8.00000000e+00,  5.00000000e+00,  6.00000000e+00,\n",
       "         8.65332306e-02,  5.25000000e-06,  5.54700196e-01,\n",
       "         8.32050294e-01],\n",
       "       [ 9.00000000e+00,  1.00000000e+00,  3.00000000e+00,\n",
       "         1.92000000e-01,  5.25000000e-06,  1.00000000e+00,\n",
       "         0.00000000e+00],\n",
       "       [ 1.00000000e+01,  3.00000000e+00,  5.00000000e+00,\n",
       "         1.92000000e-01,  5.25000000e-06,  1.00000000e+00,\n",
       "         0.00000000e+00],\n",
       "       [ 1.10000000e+01,  5.00000000e+00,  7.00000000e+00,\n",
       "         1.92000000e-01,  5.25000000e-06,  1.00000000e+00,\n",
       "         0.00000000e+00]])"
      ]
     },
     "execution_count": 47,
     "metadata": {},
     "output_type": "execute_result"
    }
   ],
   "source": [
    "#Montando a matriz de conectividade\n",
    "m_conectividade = np.zeros((nm,7))\n",
    "\n",
    "#preencher as incidências automaticamente\n",
    "m_conectividade[:,1] = Inc[:,0]\n",
    "m_conectividade[:,2] = Inc[:,1]\n",
    "m_conectividade[:,4] = Inc[:,3]\n",
    "\n",
    "for c in range(nm):\n",
    "    m_conectividade[c,0] = c + 1\n",
    "\n",
    "    #cálculo do comprimento\n",
    "    x1_calculo_L = N[0,int(m_conectividade[c,1]-1)]\n",
    "    y1_calculo_L = N[1,int(m_conectividade[c,1]-1)]\n",
    "    x2_calculo_L = N[0,int(m_conectividade[c,2]-1)]\n",
    "    y2_calculo_L = N[1,int(m_conectividade[c,2]-1)]\n",
    "\n",
    "    m_conectividade[c,3] = sqrt((x2_calculo_L - x1_calculo_L)**2 + (y2_calculo_L - y1_calculo_L)**2)\n",
    "\n",
    "    m_conectividade[c,6] = (y2_calculo_L - y1_calculo_L)/m_conectividade[c,3]\n",
    "    m_conectividade[c,5] = (x2_calculo_L - x1_calculo_L)/m_conectividade[c,3]\n",
    "    \n",
    "\n",
    "\n",
    "m_conectividade"
   ]
  },
  {
   "cell_type": "code",
   "execution_count": 48,
   "metadata": {},
   "outputs": [
    {
     "data": {
      "text/plain": [
       "array([[ 1.03197038e+07,  2.51926599e+06, -5.03853197e+06,\n",
       "        -2.51926599e+06, -5.28117188e+06,  0.00000000e+00,\n",
       "         0.00000000e+00,  0.00000000e+00,  0.00000000e+00,\n",
       "         0.00000000e+00,  0.00000000e+00,  0.00000000e+00,\n",
       "         0.00000000e+00,  0.00000000e+00],\n",
       "       [ 2.51926599e+06,  1.25963299e+06, -2.51926599e+06,\n",
       "        -1.25963299e+06,  0.00000000e+00,  0.00000000e+00,\n",
       "         0.00000000e+00,  0.00000000e+00,  0.00000000e+00,\n",
       "         0.00000000e+00,  0.00000000e+00,  0.00000000e+00,\n",
       "         0.00000000e+00,  0.00000000e+00],\n",
       "       [-5.03853197e+06, -2.51926599e+06,  1.36825619e+07,\n",
       "        -3.69714935e+05, -3.60549794e+06,  5.40824691e+06,\n",
       "        -5.03853197e+06, -2.51926599e+06,  0.00000000e+00,\n",
       "         0.00000000e+00,  0.00000000e+00,  0.00000000e+00,\n",
       "         0.00000000e+00,  0.00000000e+00],\n",
       "       [-2.51926599e+06, -1.25963299e+06, -3.69714935e+05,\n",
       "         1.06316363e+07,  5.40824691e+06, -8.11237036e+06,\n",
       "        -2.51926599e+06, -1.25963299e+06,  0.00000000e+00,\n",
       "         0.00000000e+00,  0.00000000e+00,  0.00000000e+00,\n",
       "         0.00000000e+00,  0.00000000e+00],\n",
       "       [-5.28117188e+06,  0.00000000e+00, -3.60549794e+06,\n",
       "         5.40824691e+06,  1.59705907e+07, -2.70412345e+06,\n",
       "        -1.80274897e+06, -2.70412345e+06, -5.28117188e+06,\n",
       "         0.00000000e+00,  0.00000000e+00,  0.00000000e+00,\n",
       "         0.00000000e+00,  0.00000000e+00],\n",
       "       [ 0.00000000e+00,  0.00000000e+00,  5.40824691e+06,\n",
       "        -8.11237036e+06, -2.70412345e+06,  1.21685555e+07,\n",
       "        -2.70412345e+06, -4.05618518e+06,  0.00000000e+00,\n",
       "         0.00000000e+00,  0.00000000e+00,  0.00000000e+00,\n",
       "         0.00000000e+00,  0.00000000e+00],\n",
       "       [ 0.00000000e+00,  0.00000000e+00, -5.03853197e+06,\n",
       "        -2.51926599e+06, -1.80274897e+06, -2.70412345e+06,\n",
       "         1.36825619e+07,  9.31322575e-10, -1.80274897e+06,\n",
       "         2.70412345e+06, -5.03853197e+06,  2.51926599e+06,\n",
       "         0.00000000e+00,  0.00000000e+00],\n",
       "       [ 0.00000000e+00,  0.00000000e+00, -2.51926599e+06,\n",
       "        -1.25963299e+06, -2.70412345e+06, -4.05618518e+06,\n",
       "         9.31322575e-10,  1.06316363e+07,  2.70412345e+06,\n",
       "        -4.05618518e+06,  2.51926599e+06, -1.25963299e+06,\n",
       "         0.00000000e+00,  0.00000000e+00],\n",
       "       [ 0.00000000e+00,  0.00000000e+00,  0.00000000e+00,\n",
       "         0.00000000e+00, -5.28117188e+06,  0.00000000e+00,\n",
       "        -1.80274897e+06,  2.70412345e+06,  1.59705907e+07,\n",
       "         2.70412345e+06, -3.60549794e+06, -5.40824691e+06,\n",
       "        -5.28117188e+06,  0.00000000e+00],\n",
       "       [ 0.00000000e+00,  0.00000000e+00,  0.00000000e+00,\n",
       "         0.00000000e+00,  0.00000000e+00,  0.00000000e+00,\n",
       "         2.70412345e+06, -4.05618518e+06,  2.70412345e+06,\n",
       "         1.21685555e+07, -5.40824691e+06, -8.11237036e+06,\n",
       "         0.00000000e+00,  0.00000000e+00],\n",
       "       [ 0.00000000e+00,  0.00000000e+00,  0.00000000e+00,\n",
       "         0.00000000e+00,  0.00000000e+00,  0.00000000e+00,\n",
       "        -5.03853197e+06,  2.51926599e+06, -3.60549794e+06,\n",
       "        -5.40824691e+06,  1.36825619e+07,  3.69714935e+05,\n",
       "        -5.03853197e+06,  2.51926599e+06],\n",
       "       [ 0.00000000e+00,  0.00000000e+00,  0.00000000e+00,\n",
       "         0.00000000e+00,  0.00000000e+00,  0.00000000e+00,\n",
       "         2.51926599e+06, -1.25963299e+06, -5.40824691e+06,\n",
       "        -8.11237036e+06,  3.69714935e+05,  1.06316363e+07,\n",
       "         2.51926599e+06, -1.25963299e+06],\n",
       "       [ 0.00000000e+00,  0.00000000e+00,  0.00000000e+00,\n",
       "         0.00000000e+00,  0.00000000e+00,  0.00000000e+00,\n",
       "         0.00000000e+00,  0.00000000e+00, -5.28117188e+06,\n",
       "         0.00000000e+00, -5.03853197e+06,  2.51926599e+06,\n",
       "         1.03197038e+07, -2.51926599e+06],\n",
       "       [ 0.00000000e+00,  0.00000000e+00,  0.00000000e+00,\n",
       "         0.00000000e+00,  0.00000000e+00,  0.00000000e+00,\n",
       "         0.00000000e+00,  0.00000000e+00,  0.00000000e+00,\n",
       "         0.00000000e+00,  2.51926599e+06, -1.25963299e+06,\n",
       "        -2.51926599e+06,  1.25963299e+06]])"
      ]
     },
     "execution_count": 48,
     "metadata": {},
     "output_type": "execute_result"
    }
   ],
   "source": [
    "#Cálculo da matriz de rigidez de cada elemento e global\n",
    "\n",
    "m_rigidez_global = np.zeros((nn*2,nn*2))\n",
    "\n",
    "for i in range(nm):\n",
    "    multiplicador = (Inc[i,2] * Inc[i,3])/m_conectividade[i,3]\n",
    "    \n",
    "    s = m_conectividade[i,6]\n",
    "  \n",
    "    c = m_conectividade[i,5]\n",
    "\n",
    "    m_rigidez_elemento = np.zeros((4,4))\n",
    "    m_rigidez_elemento =   multiplicador * np.array([\n",
    "        [c**2, c * s, -c**2, -c * s],\n",
    "        [c * s, s**2, -c * s, -s**2],\n",
    "        [-c**2, -c * s, c**2, c * s],\n",
    "        [-c * s, -s**2, c * s, s**2]\n",
    "    ])\n",
    "\n",
    "    no_i_elemento = m_conectividade[i,1]\n",
    "    no_j_elemento = m_conectividade[i,2]\n",
    "\n",
    "    #atraves dos nós de i e j da matriz (POR IMAGEM P EXPLICAR MELHOR) calculo da posição na matriz global, a subtração vem de uma convenção\n",
    "    index_i = np.array([2*no_i_elemento - 2, 2*no_i_elemento - 1], dtype=int)\n",
    "    index_j = np.array([2*no_j_elemento - 2, 2*no_j_elemento - 1], dtype=int)\n",
    "\n",
    "    #agora precisamos contemplar todas as possibilidades de combinação dos nós incidentes, então a contribuição que ele faz ao nó incidente em si (linhas 1 e 4 a seguir) e a contribuição que ele faz aos dois nós simultaneamente(linhas 2 e 3 a seguir), além disso usamos a função np.ix_ para coonseguirmos abarcar o intervalo de indices desejado \n",
    "    m_rigidez_global[np.ix_(index_i,index_i)] += m_rigidez_elemento[:2, :2]\n",
    "    m_rigidez_global[np.ix_(index_i,index_j)] += m_rigidez_elemento[:2, 2:]\n",
    "    m_rigidez_global[np.ix_(index_j,index_i)] += m_rigidez_elemento[2:, :2]\n",
    "    m_rigidez_global[np.ix_(index_j,index_j)] += m_rigidez_elemento[2:, 2:]\n",
    "    \n",
    "\n",
    "m_rigidez_global\n"
   ]
  },
  {
   "cell_type": "code",
   "execution_count": 58,
   "metadata": {},
   "outputs": [
    {
     "data": {
      "text/plain": [
       "array([[-1300.],\n",
       "       [-1500.],\n",
       "       [    0.],\n",
       "       [    0.],\n",
       "       [-1300.],\n",
       "       [-1500.],\n",
       "       [    0.],\n",
       "       [    0.],\n",
       "       [-1300.],\n",
       "       [-1500.],\n",
       "       [    0.]])"
      ]
     },
     "execution_count": 58,
     "metadata": {},
     "output_type": "execute_result"
    }
   ],
   "source": [
    "#montando a matriz de forças global e aplicando as restrições\n",
    "\n",
    "m_rigidez_contorno = m_rigidez_global.copy()\n",
    "\n",
    "m_rigidez_contorno[np.array(R, dtype=int), :] = 0\n",
    "m_rigidez_contorno[:, np.array(R, dtype=int)] = 0\n",
    "m_rigidez_contorno[np.array(R, dtype=int),np.array(R, dtype=int)] = 1\n",
    "\n",
    "gdl_nrestritos = np.setdiff1d(np.arange(nn * 2),np.array(R, dtype = int))\n",
    "\n",
    "m_rigidez_contorno = m_rigidez_contorno[gdl_nrestritos][:,gdl_nrestritos]\n",
    "F_contorno = F[gdl_nrestritos]\n",
    "\n"
   ]
  },
  {
   "cell_type": "markdown",
   "metadata": {},
   "source": [
    "**Resolução do Sistema de Equações**\n",
    "\n",
    "<small>A saída do sistemas de equação são as Reações de Apoio [N], Deslocamentos [m], Deformações [], Forças internas [N] e Tensões internas [Pa].</small>"
   ]
  },
  {
   "cell_type": "code",
   "execution_count": 50,
   "metadata": {},
   "outputs": [],
   "source": [
    "#métodos de solução de equação - Jacobi e Gauss-Seidel\n",
    "\n",
    "def jacobi (ite, tol, K, F):\n",
    "    n = len(F)\n",
    "    U = np.zeros(n)\n",
    "    U_antigo = np.zeros(n)\n",
    "\n",
    "    for k in range(ite):\n",
    "        U_antigo[:] = U\n",
    "        for i in range(n):\n",
    "            fator_cof = np.dot(K[i, :], U_antigo) - K[i,i] * U_antigo[i]\n",
    "            U[i] = (F[i] - fator_cof) / K[i,i]\n",
    "        \n",
    "        norma_atual = np.linalg.norm(U)\n",
    "        if norma_atual > 0:\n",
    "            E_i = np.linalg.norm(U - U_antigo)/norma_atual\n",
    "            if E_i < tol:\n",
    "                return U, E_i\n",
    "        \n",
    "\n",
    "    return U, E_i\n",
    "\n",
    "def gauss_seidel (ite, tol, K, F):\n",
    "    n = len(F)\n",
    "    U = np.zeros(n)\n",
    "    U_antigo = np.zeros(n)\n",
    "\n",
    "    for k in range(ite):\n",
    "        U_antigo[:] = U\n",
    "        for i in range(n):\n",
    "            fator_cof = np.dot(K[i, :], U) - K[i,i] * U[i]\n",
    "            U[i] = (F[i] - fator_cof) / K[i,i]\n",
    "        \n",
    "        norma_atual = np.linalg.norm(U)\n",
    "        if norma_atual > 0:\n",
    "            E_i = np.linalg.norm(U - U_antigo)/norma_atual\n",
    "            if E_i < tol:\n",
    "                return U, E_i\n",
    "        \n",
    "\n",
    "    return U, E_i\n"
   ]
  },
  {
   "cell_type": "code",
   "execution_count": 77,
   "metadata": {},
   "outputs": [
    {
     "data": {
      "text/plain": [
       "array([[[3900.4723084 ]],\n",
       "\n",
       "       [[2899.43543001]],\n",
       "\n",
       "       [[1599.37246476]]])"
      ]
     },
     "execution_count": 77,
     "metadata": {},
     "output_type": "execute_result"
    }
   ],
   "source": [
    "#Solução com o método Jacobi\n",
    "\n",
    "# Número máximo de iterações\n",
    "max_iter = 1000\n",
    "# Tolerância\n",
    "tol = 1e-5\n",
    "\n",
    "#Deslocamentos\n",
    "desloc_expandido = np.zeros((nn*2,1))\n",
    "desloc_expandido[gdl_nrestritos,0] = gauss_seidel(max_iter, tol,m_rigidez_contorno,F_contorno)[0]\n",
    "\n",
    "#Reações de apoios\n",
    "reacoes_apoio = np.dot(m_rigidez_global, desloc_expandido) \n",
    "reacoes_apoio = reacoes_apoio[np.array(R, dtype=int)]\n",
    "\n",
    "reacoes_apoio"
   ]
  },
  {
   "cell_type": "code",
   "execution_count": 74,
   "metadata": {},
   "outputs": [
    {
     "data": {
      "text/plain": [
       "array([[-0.00639392],\n",
       "       [-0.00449198],\n",
       "       [-0.00377519],\n",
       "       [-0.00352698],\n",
       "       [-0.00075513],\n",
       "       [ 0.00075496],\n",
       "       [ 0.00191093],\n",
       "       [-0.00191126],\n",
       "       [ 0.00187222],\n",
       "       [ 0.00103442],\n",
       "       [ 0.00315463]])"
      ]
     },
     "execution_count": 74,
     "metadata": {},
     "output_type": "execute_result"
    }
   ],
   "source": [
    "#Deformação\n",
    "e = np.zeros((nm,1))\n",
    "\n",
    "for i in range(nm):\n",
    "   # Índices dos nós para o elemento i (ajustando para índices baseados em zero)\n",
    "    no_1 = m_conectividade[i, 1] - 1\n",
    "    no_2 = m_conectividade[i, 2] - 1\n",
    "\n",
    "# Acessando os deslocamentos expandidos para os nós do elemento i\n",
    "    desloc = np.array([\n",
    "        desloc_expandido[int(no_1 * 2)],\n",
    "        desloc_expandido[int(no_1 * 2 + 1)],\n",
    "        desloc_expandido[int(no_2 * 2)],\n",
    "        desloc_expandido[int(no_2 * 2 + 1)]\n",
    "    ])\n",
    "    \n",
    "    m_def = np.array([\n",
    "        [-m_conectividade[i,5], -m_conectividade[i,6], m_conectividade[i,5], m_conectividade[i,6]],\n",
    "    ])\n",
    "    e_elemento = (1/m_conectividade[i,3])*np.dot(m_def,desloc)\n",
    "    e[i,0] = e_elemento\n",
    "   \n",
    "e"
   ]
  },
  {
   "cell_type": "code",
   "execution_count": 73,
   "metadata": {},
   "outputs": [
    {
     "data": {
      "text/plain": [
       "array([[-1.23492090e+09],\n",
       "       [-8.67581536e+08],\n",
       "       [-7.29140166e+08],\n",
       "       [-6.81201058e+08],\n",
       "       [-1.45846200e+08],\n",
       "       [ 1.45812269e+08],\n",
       "       [ 3.69077504e+08],\n",
       "       [-3.69141002e+08],\n",
       "       [ 3.61599724e+08],\n",
       "       [ 1.99788026e+08],\n",
       "       [ 6.09284748e+08]])"
      ]
     },
     "execution_count": 73,
     "metadata": {},
     "output_type": "execute_result"
    }
   ],
   "source": [
    "#Deformação\n",
    "sigma = np.zeros((nm,1))\n",
    "tensoes = np.zeros((nm,1))\n",
    "\n",
    "for i in range(nm):\n",
    "   # Índices dos nós para o elemento i (ajustando para índices baseados em zero)\n",
    "    no_1 = m_conectividade[i, 1] - 1\n",
    "    no_2 = m_conectividade[i, 2] - 1\n",
    "\n",
    "# Acessando os deslocamentos expandidos para os nós do elemento i\n",
    "    desloc = np.array([\n",
    "        desloc_expandido[int(no_1 * 2)],\n",
    "        desloc_expandido[int(no_1 * 2 + 1)],\n",
    "        desloc_expandido[int(no_2 * 2)],\n",
    "        desloc_expandido[int(no_2 * 2 + 1)]\n",
    "    ])\n",
    "    m_def = np.array([\n",
    "        [-m_conectividade[i,5], -m_conectividade[i,6], m_conectividade[i,5], m_conectividade[i,6]],\n",
    "    ])\n",
    "    sigma_elemento = (Inc[i,2]/m_conectividade[i,3])*np.dot(m_def,desloc)\n",
    "    sigma[i,0] = sigma_elemento\n",
    "    tensoes[i,0] = sigma_elemento*m_conectividade[i,4]\n",
    "    \n",
    "sigma"
   ]
  },
  {
   "cell_type": "code",
   "execution_count": null,
   "metadata": {},
   "outputs": [],
   "source": [
    "geraSaida('saida',reacoes_apoio,desloc_expandido,e,tensoes,sigma)"
   ]
  }
 ],
 "metadata": {
  "kernelspec": {
   "display_name": "Python 3",
   "language": "python",
   "name": "python3"
  },
  "language_info": {
   "codemirror_mode": {
    "name": "ipython",
    "version": 3
   },
   "file_extension": ".py",
   "mimetype": "text/x-python",
   "name": "python",
   "nbconvert_exporter": "python",
   "pygments_lexer": "ipython3",
   "version": "3.11.2"
  },
  "orig_nbformat": 4
 },
 "nbformat": 4,
 "nbformat_minor": 2
}
