{
 "cells": [
  {
   "cell_type": "markdown",
   "metadata": {},
   "source": [
    "## **Software de cálculo numérico para treliças planas**"
   ]
  },
  {
   "cell_type": "markdown",
   "metadata": {},
   "source": [
    "**Introdução**"
   ]
  },
  {
   "cell_type": "markdown",
   "metadata": {},
   "source": [
    "**Explicação da estrutura do software**"
   ]
  },
  {
   "cell_type": "code",
   "execution_count": 3,
   "metadata": {},
   "outputs": [],
   "source": [
    "#Importando bibliotecas necessárias\n",
    "import matplotlib as mpl\n",
    "import matplotlib.pyplot as plt\n",
    "from math import *\n",
    "import numpy as np\n",
    "import xlrd"
   ]
  },
  {
   "cell_type": "markdown",
   "metadata": {},
   "source": [
    "*Explicando nomes de variáveis da tabela*\n",
    "\n",
    "<small>A funcao 'importa' retorna o numero de nos [nn], a matriz dos nos [N], o numero\n",
    "de membros [nm], a matriz de incidencia [Inc], o numero de cargas [nc], o vetor\n",
    "carregamento [F], o numero de restricoes [nr] e o vetor de restricoes [R] \n",
    "contidos no arquivo de entrada.</small>\n",
    "\n",
    "MUDAR ISSO DEPOIS SO COPIEI E COLEI DE LA"
   ]
  },
  {
   "cell_type": "code",
   "execution_count": 5,
   "metadata": {},
   "outputs": [],
   "source": [
    "#Importando as funções do arquivo funcoesTermosol.py e extraindo variáveis do arquivo de entrada\n",
    "from funcoesTermosol import plota\n",
    "\n",
    "from funcoesTermosol import importa\n",
    "[nn,N,nm,Inc,nc,F,nr,R] = importa('entrada.xls')\n",
    "\n",
    "from funcoesTermosol import geraSaida"
   ]
  },
  {
   "cell_type": "code",
   "execution_count": 30,
   "metadata": {},
   "outputs": [
    {
     "data": {
      "text/plain": [
       "0.3"
      ]
     },
     "execution_count": 30,
     "metadata": {},
     "output_type": "execute_result"
    }
   ],
   "source": [
    "#Visualizando os dados obtidos através do arquivo de entrada\n",
    "Inc[:,1]\n",
    "Inc[0,1]\n",
    "N[0,2]"
   ]
  },
  {
   "cell_type": "code",
   "execution_count": 35,
   "metadata": {},
   "outputs": [
    {
     "name": "stdout",
     "output_type": "stream",
     "text": [
      "0.0\n",
      "1.0\n",
      "2.0\n"
     ]
    },
    {
     "data": {
      "text/plain": [
       "array([[1. , 1. , 2. , 0.4, 0. , 0. , 0. ],\n",
       "       [2. , 2. , 3. , 0.3, 0. , 0. , 0. ],\n",
       "       [3. , 3. , 1. , 0.5, 0. , 0. , 0. ]])"
      ]
     },
     "execution_count": 35,
     "metadata": {},
     "output_type": "execute_result"
    }
   ],
   "source": [
    "#Montando a matriz de conectividade\n",
    "m_conectividade = np.zeros((nm,7))\n",
    "\n",
    "#preencher as incidências automaticamente\n",
    "m_conectividade[:,1] = Inc[:,0]\n",
    "m_conectividade[:,2] = Inc[:,1]\n",
    "\n",
    "for c in range(nm):\n",
    "    m_conectividade[c,0] = c + 1\n",
    "\n",
    "    #cálculo do comprimento\n",
    "    print(m_conectividade[c,1]-1)\n",
    "    x1_calculo_L = N[0,int(m_conectividade[c,1]-1)]\n",
    "    y1_calculo_L = N[1,int(m_conectividade[c,1]-1)]\n",
    "    x2_calculo_L = N[0,int(m_conectividade[c,2]-1)]\n",
    "    y2_calculo_L = N[1,int(m_conectividade[c,2]-1)]\n",
    "\n",
    "    m_conectividade[c,3] = sqrt((x2_calculo_L - x1_calculo_L)**2 + (y2_calculo_L - y1_calculo_L)**2)\n",
    "\n",
    "m_conectividade"
   ]
  }
 ],
 "metadata": {
  "kernelspec": {
   "display_name": "Python 3",
   "language": "python",
   "name": "python3"
  },
  "language_info": {
   "codemirror_mode": {
    "name": "ipython",
    "version": 3
   },
   "file_extension": ".py",
   "mimetype": "text/x-python",
   "name": "python",
   "nbconvert_exporter": "python",
   "pygments_lexer": "ipython3",
   "version": "3.11.2"
  },
  "orig_nbformat": 4
 },
 "nbformat": 4,
 "nbformat_minor": 2
}
